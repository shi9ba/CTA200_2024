{
 "cells": [
  {
   "cell_type": "code",
   "execution_count": 14,
   "metadata": {},
   "outputs": [
    {
     "name": "stdout",
     "output_type": "stream",
     "text": [
      "Found root in 3 iterations\n",
      "1.4655712318780663\n",
      "Found root in 5 iterations\n",
      "1.4655713749070918\n",
      "Found root in 20 iterations\n",
      "1.4655713974990228\n",
      "Iteration failed\n",
      "None \n",
      "\n",
      "\n",
      "\n",
      "Found root in 3 iterations\n",
      "1.4655712318780663\n",
      "Found root in 6 iterations\n",
      "1.4655712318767877\n",
      "Found root in 21 iterations\n",
      "1.4655712318767944\n",
      "Iteration failed\n",
      "None\n"
     ]
    }
   ],
   "source": [
    "\"\"\"\n",
    "CTA200 2024 Assignment 2: Basic Python Syntax\n",
    "\"\"\"\n",
    "\n",
    "def f(x):\n",
    "    # returns value of polynomial x^3 - x^2 - 1 for a given x\n",
    "    return x**3 - x**2 - 1\n",
    "\n",
    "def df(x):\n",
    "    # returns value of derivative of polynomial x^3 - x^2 - 1 for a given x\n",
    "    return 3*x**2 - 2*x\n",
    "\n",
    "def newton(f, df, x0, epsilon=1e-6, max_iter=30):\n",
    "    # performs a Newton iteration of the function f with derivative df\n",
    "    i = 0\n",
    "    x = x0\n",
    "    while (i <= max_iter and abs(f(x)) > epsilon):\n",
    "        x = x - f(x)/df(x)\n",
    "        i = i + 1\n",
    "    if (abs(f(x)) < epsilon):\n",
    "        print(\"Found root in\", i, \"iterations\")\n",
    "        return x\n",
    "    else:\n",
    "        print(\"Iteration failed\")\n",
    "        return None\n",
    "    \n",
    "if __name__ == '__main__':\n",
    "    root = newton(f, df, 1.5)\n",
    "    print(root)\n",
    "    root = newton(f, df, 1)\n",
    "    print(root)\n",
    "    root = newton(f, df, 1000)\n",
    "    print(root)\n",
    "    root = newton(f, df, 100000)\n",
    "    print(root, \"\\n\\n\\n\")\n",
    "\n",
    "    root = newton(f, df, 1.5, 1e-8)\n",
    "    print(root)\n",
    "    root = newton(f, df, 1, 1e-8)\n",
    "    print(root)\n",
    "    root = newton(f, df, 1000, 1e-8)\n",
    "    print(root)\n",
    "    root = newton(f, df, 100000, 1e-8)\n",
    "    print(root)\n",
    "\n",
    "    # the function still works when reducing epsilon to 1e-8. it takes ~1 more iteration to converge."
   ]
  }
 ],
 "metadata": {
  "kernelspec": {
   "display_name": "\"Python/Mu (mu_venv-38-20240112-133024)\"",
   "language": "python",
   "name": "mu_venv-38-20240112-133024"
  },
  "language_info": {
   "codemirror_mode": {
    "name": "ipython",
    "version": 3
   },
   "file_extension": ".py",
   "mimetype": "text/x-python",
   "name": "python",
   "nbconvert_exporter": "python",
   "pygments_lexer": "ipython3",
   "version": "3.8.12"
  }
 },
 "nbformat": 4,
 "nbformat_minor": 2
}
